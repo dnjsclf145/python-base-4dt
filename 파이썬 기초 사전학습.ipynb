{
 "cells": [
  {
   "cell_type": "markdown",
   "metadata": {},
   "source": [
    "# Python 사전 기초 학습\n",
    "\n",
    "해당 학습 자료는 오프라인 강의 이전의 사전 학습을 위한 자료로 기초적인 내용만 작성되어 있습니다.    \n",
    "`작성자: 최원칠 강사`\n",
    "\n",
    "### 사전학습을 통해 배우는것\n",
    "\n",
    "1. 변수와 데이터타입\n",
    "2. 연산자와 함수\n",
    "3. 조건문과 반복문\n",
    "4. 리스트 활용\n"
   ]
  },
  {
   "cell_type": "markdown",
   "metadata": {},
   "source": [
    "---\n",
    "\n",
    "## 1. 변수와 데이터타입\n",
    "\n",
    "\n",
    "\n",
    "파이썬은 데이터를 컴퓨터구조중 메모리의 특정 주소에 저장합니다.   \n",
    "저장된 데이터를 사용하기 위해선 복잡한 주소를 통해 데이터를 찾아가야 합니다.  \n",
    "이때 복잡한 주소대신 개발자가 기억하기 쉬운 특정 단어로 데이터를 찾아가기 위한 방법이 바로 변수입니다.   \n",
    "마치 현실 세계의 주소를 위도,경도가 아닌 도로명 주소로 나타내는것과 같은 이치입니다.   \n",
    "이렇게 변수에 특정 데이터의 위치를 저장하는 것을 참조 또는 할당이라고 합니다.   \n",
    "  \n",
    "\n",
    "### 1.1. 변수 할당\n",
    "다음은 실제 파이썬 코드에서 변수에 데이터를 할당하는 방법입니다.\n",
    "   \n",
    "    적절한 표현의 변수이름을 지정하고 = 을 활용하여 할당   \n",
    "    \n",
    "    \n",
    "이때 변수이름은 다음 규칙을 따릅니다.\n",
    "- 소문자 영단어\n",
    "- 2개이상의 단어 사용시 _ 로 단어구분 ex) my_num\n",
    "- _ 를 제외한 특수문자 사용 금지\n",
    "- 숫자 사용시 영단어 뒤에 배치 ex) num1"
   ]
  },
  {
   "cell_type": "code",
   "execution_count": 1,
   "metadata": {},
   "outputs": [
    {
     "data": {
      "text/plain": [
       "10"
      ]
     },
     "execution_count": 1,
     "metadata": {},
     "output_type": "execute_result"
    }
   ],
   "source": [
    "num = 10\n",
    "print(num)"
   ]
  },
  {
   "cell_type": "markdown",
   "metadata": {},
   "source": [
    ">위의 코드는 num 이라는 변수에 데이터 10을 할당하고 변수에 할당된 데이터를 출력하는 과정입니다.  \n",
    "코드를 직역하자면 'num은 100이다' 가 되지만 실질적으로는 'num은 100을 참조하고 있다' 입니다.  \n",
    "결과적으로 지금같은 간단한 구조에서는 'num은 100이다'라고 생각을 해도 큰문제는 없습니다.   "
   ]
  },
  {
   "cell_type": "code",
   "execution_count": 2,
   "metadata": {},
   "outputs": [
    {
     "data": {
      "text/plain": [
       "11"
      ]
     },
     "execution_count": 2,
     "metadata": {},
     "output_type": "execute_result"
    }
   ],
   "source": [
    "num = 10\n",
    "num = 11\n",
    "print(num)"
   ]
  },
  {
   "cell_type": "markdown",
   "metadata": {},
   "source": [
    ">위의 코드는 변수 num에 10을 할당 후 11을 재할당 하는 과정입니다.   \n",
    "최종 num을 출력하면 재할당된 11을 출력합니다."
   ]
  },
  {
   "cell_type": "code",
   "execution_count": 1,
   "metadata": {},
   "outputs": [
    {
     "name": "stdout",
     "output_type": "stream",
     "text": [
      "10\n",
      "10\n"
     ]
    }
   ],
   "source": [
    "num1 = 10\n",
    "num2 = num1\n",
    "print(num1)\n",
    "print(num2)"
   ]
  },
  {
   "cell_type": "markdown",
   "metadata": {},
   "source": [
    ">변수에 이미 할당이 이루어진 또다른 변수도 할당 가능합니다.  \n",
    "이때는 같은 데이터의 주소를 참조 하기때문에 출력값이 동일함을 볼 수 있습니다.  \n",
    "이러한 참조의 개념에서 생기는 다양한 문제점들이 있습니다. 이는 본수업때 자세히 보도록 하겠습니다.\n"
   ]
  },
  {
   "cell_type": "markdown",
   "metadata": {},
   "source": [
    "\n",
    "<br>\n",
    "<br>\n",
    "\n",
    "### 1.2. 기본 데이터 타입(type, 형식)\n",
    "\n",
    "파이썬에서 데이터는 모두 객체로 이루어져 있는 객체지향 언어입니다.   \n",
    "따라서 파이썬의 모든 데이터는 객체명인 **타입(type)** 을가집니다.  \n",
    "특히 어떠한 기능에서 데이터를 판별하는 기준은 데이터타입이므로 내가 활용하려는 데이터의 타입을 알고 있는것은 중요합니다. \n",
    "\n",
    "다음은 파이썬에서 정의된 하나의 데이터를 나타내는 기본적인 데이터타입 입니다.\n",
    "\n",
    "* int : 정수\n",
    "* float : 소수점, 비율을 포함한 실수\n",
    "* str : 문자열\n",
    "* bool : True와 False\n"
   ]
  },
  {
   "cell_type": "markdown",
   "metadata": {},
   "source": [
    "#### int형\n",
    "\n",
    "먼저 정수를 나타내는 데이터는 int라는 객체로 구성되기 때문에 객체명을 그대로 따른 int 타입을 가집니다.   \n",
    " `type() 명령어의 ()안에 변수 또는 데이터를 넣어 타입을 확인할 수 있습니다.`"
   ]
  },
  {
   "cell_type": "code",
   "execution_count": 2,
   "metadata": {},
   "outputs": [
    {
     "name": "stdout",
     "output_type": "stream",
     "text": [
      "<class 'int'>\n"
     ]
    }
   ],
   "source": [
    "num = 10\n",
    "print(type(num))"
   ]
  },
  {
   "cell_type": "markdown",
   "metadata": {},
   "source": [
    ">위의 코드는 변수 num에 10을 할당하고 타입을 출력한 과정입니다.  \n",
    "10은 정수이므로 정수 객체를 의미하는 int가 출력되는것을 확인할 수 있습니다."
   ]
  },
  {
   "cell_type": "markdown",
   "metadata": {},
   "source": [
    "#### float형\n",
    "\n",
    "숫자 데이터를 생성할 때 소수점이 붙은 실수 숫자를 작성하여 생성하면 정수가 아닌 실수를 나타내는 객체인 float가 됩니다."
   ]
  },
  {
   "cell_type": "code",
   "execution_count": 3,
   "metadata": {
    "scrolled": true
   },
   "outputs": [
    {
     "name": "stdout",
     "output_type": "stream",
     "text": [
      "<class 'float'>\n"
     ]
    }
   ],
   "source": [
    "num = 10.1\n",
    "print(type(num))"
   ]
  },
  {
   "cell_type": "markdown",
   "metadata": {},
   "source": [
    ">위의 코드는 변수 num에 10.1을 할당하고 타입을 출력한 과정입니다.  \n",
    "10.1은 실수이므로 실수 객체를 의미하는 float가 출력되는것을 확인할 수 있습니다."
   ]
  },
  {
   "cell_type": "markdown",
   "metadata": {},
   "source": [
    "#### str형\n",
    "\n",
    "파이썬에선 \" \" 또는 ' ' 를 이용하여 숫자가 아닌 텍스트형식의 데이터도 간단하게 생성할 수 있습니다.   \n",
    "이런 따옴표로 묶인 텍스트는 문자열을 나타내는 객체인 str이 됩니다.\n"
   ]
  },
  {
   "cell_type": "code",
   "execution_count": 5,
   "metadata": {},
   "outputs": [
    {
     "name": "stdout",
     "output_type": "stream",
     "text": [
      "<class 'str'>\n",
      "<class 'str'>\n"
     ]
    }
   ],
   "source": [
    "name1 = '파이썬'\n",
    "name2 = \"파이썬\"\n",
    "print(type(name1))\n",
    "print(type(name2))"
   ]
  },
  {
   "cell_type": "markdown",
   "metadata": {},
   "source": [
    ">위의 코드는 변수 name1과 name2 변수에 ' '와 \" \"활용하여 문자열을 할당하고 타입을 출력한 과정입니다.  \n",
    "두 변수다 문자열 객체를 의미하는 str이 출력되는것을 확인할 수 있습니다."
   ]
  },
  {
   "cell_type": "markdown",
   "metadata": {},
   "source": [
    "#### bool형\n",
    "\n",
    "파이썬에서 참,거짓을 의미하는 데이터인 True 와 False 두개의 데이터만 표현할 수 있는 bool 객체가 존재합니다. \n"
   ]
  },
  {
   "cell_type": "code",
   "execution_count": 6,
   "metadata": {},
   "outputs": [
    {
     "name": "stdout",
     "output_type": "stream",
     "text": [
      "<class 'bool'>\n",
      "<class 'bool'>\n"
     ]
    }
   ],
   "source": [
    "t = True\n",
    "f = False\n",
    "print(type(t))\n",
    "print(type(f))"
   ]
  },
  {
   "cell_type": "markdown",
   "metadata": {},
   "source": [
    ">위의 코드는 변수 t과 f 변수에 True와 False를 할당하고 타입을 출력한 과정입니다.  \n",
    "두 변수다 타입이 bool 임을 확인할 수 있습니다."
   ]
  },
  {
   "cell_type": "markdown",
   "metadata": {},
   "source": [
    "#### None\n",
    "\n",
    "파이썬에서는 아무것도 아닌 데이터 또는 값이 없는 데이터라는 의미로 None 데이터가 존재합니다.  \n",
    "이러한 None 데이터는 NoneType 이라는 객체로 구성되어 있습니다."
   ]
  },
  {
   "cell_type": "code",
   "execution_count": 29,
   "metadata": {},
   "outputs": [
    {
     "name": "stdout",
     "output_type": "stream",
     "text": [
      "<class 'NoneType'>\n"
     ]
    }
   ],
   "source": [
    "num = None\n",
    "print(type(num))"
   ]
  },
  {
   "cell_type": "markdown",
   "metadata": {},
   "source": [
    "#### 데이터 타입 변환 (형변환)\n",
    "\n",
    "파이썬에서 데이터를 구분하는 방법은 *값* 과 *타입* 두가지입니다.   \n",
    "따라서 타입에 따라 활용할 수 있는 기능이나 연산등이 달라지는 경우가 많습니다.   \n",
    "이때 특정 상황에 따라 데이터타입이 변환이 이루어져야할 때 다음과 같이 형변환이 가능합니다.  \n",
    "\n",
    "- int(): () 안의 변수 또는 데이터를 int 객체로 변환\n",
    "- float(): () 안의 변수 또는 데이터를 float 객체로 변환\n",
    "- str(): () 안의 변수 또는 데이터를 str 객체로 변환\n",
    "- bool(): () 안의 변수 또는 데이터를 bool 객체로 변환\n"
   ]
  },
  {
   "cell_type": "code",
   "execution_count": 1,
   "metadata": {},
   "outputs": [
    {
     "name": "stdout",
     "output_type": "stream",
     "text": [
      "10 10.0 10 10\n",
      "<class 'int'> <class 'float'> <class 'int'> <class 'str'>\n"
     ]
    }
   ],
   "source": [
    "num1 = int(10.1)\n",
    "num2 = float(10)\n",
    "num3 = int('10')\n",
    "num4 = str(10)\n",
    "print(num1, num2, num3, num4)\n",
    "print(type(num1), type(num2), type(num3), type(num4))"
   ]
  },
  {
   "cell_type": "markdown",
   "metadata": {},
   "source": [
    ">위의 코드는 각 데이터를 원하는 타입으로 형변환 하는 과정입니다.  \n",
    "이때 num1 경우 float를 int로 변환하는 경우 소수점 데이터가 사라지는 데이터 손실이 일어납니다."
   ]
  },
  {
   "cell_type": "code",
   "execution_count": 14,
   "metadata": {
    "scrolled": true
   },
   "outputs": [
    {
     "ename": "ValueError",
     "evalue": "invalid literal for int() with base 10: '안녕'",
     "output_type": "error",
     "traceback": [
      "\u001b[1;31m---------------------------------------------------------------------------\u001b[0m",
      "\u001b[1;31mValueError\u001b[0m                                Traceback (most recent call last)",
      "Cell \u001b[1;32mIn[14], line 1\u001b[0m\n\u001b[1;32m----> 1\u001b[0m num5 \u001b[38;5;241m=\u001b[39m \u001b[38;5;28;43mint\u001b[39;49m\u001b[43m(\u001b[49m\u001b[38;5;124;43m'\u001b[39;49m\u001b[38;5;124;43m안녕\u001b[39;49m\u001b[38;5;124;43m'\u001b[39;49m\u001b[43m)\u001b[49m\n",
      "\u001b[1;31mValueError\u001b[0m: invalid literal for int() with base 10: '안녕'"
     ]
    }
   ],
   "source": [
    "num5 = int('안녕')"
   ]
  },
  {
   "cell_type": "markdown",
   "metadata": {},
   "source": [
    ">또한 위 코드처럼 형변환이 불가능 한 경우도 존재합니다. 문자열 경우 숫자만 나타난 문자열만 숫자형으로 변환 가능합니다.   \n",
    "`이처럼 코드의 문법적인 문제는 없지만 실행중 문제가 생기는경우 원인에 따른 Error 문구를 출력하게 됩니다. 만약 문법적인 문제가 생기는 경우 SyntaxError 문구가 출력됩니다.`"
   ]
  },
  {
   "cell_type": "markdown",
   "metadata": {},
   "source": [
    "#### 문자열에 다른타입을 조합\n",
    "\n",
    "문자열을 생성할때 문자열 내부의 특정 문자열을 상황에 따라 다르게 구성(동적)하는 방법이 있습니다.   \n",
    "바로 문자열 `포맷팅` 방법입니다. 문자열 포맷팅을 할 경우 문자열이 아닌 다른 타입도 하나의 문자열로 같이 표현 가능합니다.\n",
    "문자열 포맷팅은 두가지 방법이 존재합니다\n",
    "\n",
    "- ' '.format() 사용\n",
    "- f' '  사용"
   ]
  },
  {
   "cell_type": "code",
   "execution_count": 21,
   "metadata": {},
   "outputs": [
    {
     "name": "stdout",
     "output_type": "stream",
     "text": [
      "1일차 파이썬 수업에 오신걸 환영합니다\n",
      "1일차 파이썬 수업에 오신걸 환영합니다\n"
     ]
    }
   ],
   "source": [
    "num = 1\n",
    "name = '파이썬'\n",
    "\n",
    "print('{}일차 {} 수업에 오신걸 환영합니다'.format(num, name))\n",
    "print(f'{num}일차 {name} 수업에 오신걸 환영합니다')"
   ]
  },
  {
   "cell_type": "markdown",
   "metadata": {},
   "source": [
    ">위의 코드는 int 변수 num과 문자열 변수 name을 활용하여 동적인 문자열을 만드는 과정입니다.  \n",
    "`.format()`을 사용하기 위해서는 따옴표 문자열 구성시 특정 구간을 `{}` 로 작성하고, 해당 구간에 표현될 변수 또는 데이터를 `format()` 안에 순서(`,`)에 맞게 넣어줍니다.  \n",
    "`f` 표현식을 사용하는 경우 따옴표 문자열 구성시 특정 구간을 `{}` 로 작성하고, 해당 `{}` 안에 표현될 변수 또는 데이터를 넣어줍니다.   \n",
    "실제 num과 name의 데이터를 바꿔가며 실행해 봅니다."
   ]
  },
  {
   "cell_type": "markdown",
   "metadata": {},
   "source": [
    "---\n",
    "\n",
    "## 2. 연산자와 함수\n",
    "\n",
    "\n",
    "\n",
    "프로그램이 만들어지기 위해선 데이터만 있는것이 아닌 데이터를 활용하여 연산을 하고 기능을 만들어내야 합니다.   \n",
    "파이썬은 기본적으로 연산을 위한 연산자가 존재합니다. 또한 특정 기능을 위한 함수도 존재합니다.   \n",
    "함수는 파이썬에 이미 정의되어있는 함수도 있지만, 직접 정의를 하여 사용할 수 있습니다.\n",
    "\n",
    "\n",
    "### 2.1 연산자의 활용\n",
    "\n",
    "파이썬에는 연산을 위한 다양한 연산자가 존재합니다.   \n",
    "이때 역할과 피연산자의 타입들에 따라 다음과같이 4가지 연산으로 구분지을수 있습니다.   \n",
    "- 산술연산자\n",
    "- 비교연산자\n",
    "- 논리연산자\n",
    "- 비트연산자"
   ]
  },
  {
   "cell_type": "markdown",
   "metadata": {},
   "source": [
    "#### 산술연산자\n",
    "\n",
    "산술연산자는 수치형 데이터(int,float)를 피연산자로 사용하여 산술 연산을 하는 연산자입니다.   \n",
    "다음과 같은 연산자가 존재합니다.\n",
    "\n",
    " `+`: 더하기   \n",
    " `-`: 빼기   \n",
    " `*`: 곱하기   \n",
    " `/` : 나누기   \n",
    " `//` : 몫   \n",
    " `**` : 제곱   "
   ]
  },
  {
   "cell_type": "code",
   "execution_count": 9,
   "metadata": {},
   "outputs": [
    {
     "data": {
      "text/plain": [
       "30"
      ]
     },
     "execution_count": 9,
     "metadata": {},
     "output_type": "execute_result"
    }
   ],
   "source": [
    "num1 = 10\n",
    "num2 = 20\n",
    "print(num1 + num2)"
   ]
  },
  {
   "cell_type": "markdown",
   "metadata": {},
   "source": [
    ">위의 코드는 int형 변수간의 산술연산 과정입니다.   \n",
    "피연산자는 할당이 이루어진 변수 또는 데이터를 직접 입력하여 연산 가능합니다."
   ]
  },
  {
   "cell_type": "code",
   "execution_count": 9,
   "metadata": {},
   "outputs": [
    {
     "data": {
      "text/plain": [
       "20.1"
      ]
     },
     "execution_count": 9,
     "metadata": {},
     "output_type": "execute_result"
    }
   ],
   "source": [
    "num1 = 10\n",
    "num2 = 10.1\n",
    "num1 + num2"
   ]
  },
  {
   "cell_type": "markdown",
   "metadata": {},
   "source": [
    ">위의 코드는 int와 float 변수간의 산술연산 과정입니다.   \n",
    "피연산자중 하나라도 float가 있다면 결과는 float입니다."
   ]
  },
  {
   "cell_type": "code",
   "execution_count": 10,
   "metadata": {},
   "outputs": [
    {
     "data": {
      "text/plain": [
       "2.0"
      ]
     },
     "execution_count": 10,
     "metadata": {},
     "output_type": "execute_result"
    }
   ],
   "source": [
    "num1 = 10\n",
    "num2 = 20\n",
    "num2 / num1"
   ]
  },
  {
   "cell_type": "markdown",
   "metadata": {},
   "source": [
    ">위의 코드는 int 변수간의 산술연산중 나누기 연산 과정입니다.   \n",
    "나누기 연산은 피연산자가 전부 int라 하더라도 결과는 float가 됩니다."
   ]
  },
  {
   "cell_type": "code",
   "execution_count": null,
   "metadata": {},
   "outputs": [],
   "source": [
    "num = 10\n",
    "num += 10 # num = num + 10 과 동일\n",
    "num"
   ]
  },
  {
   "cell_type": "markdown",
   "metadata": {},
   "source": [
    ">위의 코드는 대입연산(할당)과 산술연산을 합친 연산자 입니다.   \n",
    "이처럼 대입연산과 산술연산을 결합한 연산은 산술 연산 결과를 왼쪽 피연산자 변수에 다시 할당 합니다.   \n",
    "`코드라인의 맨앞에 #가 붙은경우는 해당 라인은 실행이 되지 않는 라인이 됩니다. 이를 주석이라 합니다.`"
   ]
  },
  {
   "cell_type": "code",
   "execution_count": 18,
   "metadata": {
    "scrolled": true
   },
   "outputs": [
    {
     "data": {
      "text/plain": [
       "'성북새싹'"
      ]
     },
     "execution_count": 18,
     "metadata": {},
     "output_type": "execute_result"
    }
   ],
   "source": [
    "name1 = '성북'\n",
    "name2 = '새싹'\n",
    "name1 + name2"
   ]
  },
  {
   "cell_type": "markdown",
   "metadata": {},
   "source": [
    ">위의 코드는 산술연산의 피연산자가 문자열인 경우입니다.   \n",
    "문자열 간의 산술 연산 결과는 문자열 연결이 됩니다. 이때 양쪽 피연산자 모두 문자열이여야 합니다.\n",
    "\n",
    "이처럼 같은 산술연산자라도 피연산자의 데이터 타입에 따라 기능과 결과가 달라진다는 점을 주의해야 합니다. "
   ]
  },
  {
   "cell_type": "markdown",
   "metadata": {},
   "source": [
    "#### 비교연산\n",
    "\n",
    "비교연산은 피연산자간의 비교를 통해 bool 결과를 만드는 연산자 입니다.\n",
    "\n",
    " `==` : 값이 같으면 True  \n",
    " `!=` : 값이 다르면 True  \n",
    " `>, >=, <, <=` : 대소비교 성립시 True  \n",
    " `is` : 타입과 값이 같으면 True  "
   ]
  },
  {
   "cell_type": "code",
   "execution_count": 17,
   "metadata": {},
   "outputs": [
    {
     "name": "stdout",
     "output_type": "stream",
     "text": [
      "False\n",
      "True\n",
      "True\n",
      "False\n"
     ]
    }
   ],
   "source": [
    "num1 = 100\n",
    "num2 = 10\n",
    "\n",
    "print(num1 == num2)\n",
    "print(num1 != num2)\n",
    "print(num1 > num2)\n",
    "print(num1 <= num2)\n"
   ]
  },
  {
   "cell_type": "markdown",
   "metadata": {},
   "source": [
    ">위의 코드는 다양한 비교연산자의 결과를 출력하는 과정입니다.   \n",
    "비교연산자의 특성에 따라 결과는 True 또는 False 나오게 됩니다.\n"
   ]
  },
  {
   "cell_type": "markdown",
   "metadata": {},
   "source": [
    "#### 논리연산\n",
    "\n",
    "논리연산은 bool 피연산자간의 논리적 연산을 통해 또다른 bool 결과를 만드는 연산자입니다.  \\\n",
    "논리연산에는 다음과 같은 3가지의 기본 연산이 있습니다.\n",
    "\n",
    " `and` : 둘다 True이면 True   \n",
    " `or`: 둘중 하나라도 True 이면 True  \n",
    " `not`: True 이면 False (역변환)  "
   ]
  },
  {
   "cell_type": "code",
   "execution_count": 18,
   "metadata": {
    "scrolled": true
   },
   "outputs": [
    {
     "name": "stdout",
     "output_type": "stream",
     "text": [
      "False\n",
      "True\n",
      "False\n",
      "True\n",
      "False\n"
     ]
    }
   ],
   "source": [
    "print(not True)\n",
    "print(True and True)\n",
    "print(True and False)\n",
    "print(True or False)\n",
    "print(False or False)"
   ]
  },
  {
   "cell_type": "markdown",
   "metadata": {},
   "source": [
    ">위의 코드를 통해 bool 데이터 간의 논리연산이 이루어 지는것을 확인할 수 있습니다."
   ]
  },
  {
   "cell_type": "code",
   "execution_count": 20,
   "metadata": {},
   "outputs": [
    {
     "name": "stdout",
     "output_type": "stream",
     "text": [
      "False\n"
     ]
    }
   ],
   "source": [
    "num1 = 100\n",
    "num2 = 10\n",
    "print(num1 == num2 and num1 > num2)"
   ]
  },
  {
   "cell_type": "markdown",
   "metadata": {},
   "source": [
    ">위의 코드처럼 비교연산자의 결과는 bool이므로 논리연산과 조합하여 사용하는 경우가 많습니다.   \n",
    "논리연산은 연산 우선순위가 비교연산자보다 뒤이므로 앞뒤의 비교연산이 전부 이루어지고 논리연산이 이루어지게 됩니다."
   ]
  },
  {
   "cell_type": "markdown",
   "metadata": {},
   "source": [
    "#### [실습] 변수 x에 10.1을 하고, 변수 y에 101을 할당한 다음 더한 후 정수로 출력하세요"
   ]
  },
  {
   "cell_type": "code",
   "execution_count": null,
   "metadata": {},
   "outputs": [],
   "source": []
  },
  {
   "cell_type": "code",
   "execution_count": null,
   "metadata": {},
   "outputs": [],
   "source": [
    "# x = 10.1\n",
    "# y = 101\n",
    "# xy = x+y\n",
    "# xy = int(xy)\n",
    "# print(xy)"
   ]
  },
  {
   "cell_type": "markdown",
   "metadata": {},
   "source": [
    "#### [실습] n2는 n1보다 크고 n3보다 작은지 비교연산자와 논리연산자를 활용하여 bool값으로 나타내세요 "
   ]
  },
  {
   "cell_type": "code",
   "execution_count": 4,
   "metadata": {},
   "outputs": [],
   "source": [
    "n1 = 100\n",
    "n2 = 50\n",
    "n3 = 80"
   ]
  },
  {
   "cell_type": "code",
   "execution_count": 5,
   "metadata": {},
   "outputs": [
    {
     "name": "stdout",
     "output_type": "stream",
     "text": [
      "True\n"
     ]
    }
   ],
   "source": [
    "# b = n2 > n1 & n2 < n3\n",
    "# print(b)"
   ]
  },
  {
   "cell_type": "markdown",
   "metadata": {},
   "source": [
    "#### [실습] 초를 나타내는 time 값을 다음과 같이 시간,분,초로 나타내는 포맷으로 변경하세요. (/, //, % 연산자 활용)\n",
    "\n",
    "`5000초는 1시간 23분 20초 입니다.`"
   ]
  },
  {
   "cell_type": "code",
   "execution_count": 20,
   "metadata": {},
   "outputs": [],
   "source": [
    "time = 5000"
   ]
  },
  {
   "cell_type": "code",
   "execution_count": null,
   "metadata": {},
   "outputs": [],
   "source": [
    "# time = 5000\n",
    "\n",
    "# second = time % 60\n",
    "# minute = (time // 60) % 60\n",
    "# hour = (time // 60) // 60\n",
    "\n",
    "# print(f'{time}초는 {hour}시간 {minute}분 {second}초 입니다.')"
   ]
  },
  {
   "cell_type": "markdown",
   "metadata": {},
   "source": [
    "### 2.2. 함수의 사용과 정의\n",
    "\n",
    "파이썬에서 함수는 **일시적**인 기능을 정의하고 필요할때마다 해당 기능을 사용하는 구조입니다.   \n",
    "이전 예시에서도 출력 기능이 담긴 `print()`와 타입을 찾는 기능이 담긴 `type()` 함수를 사용하기도 했습니다.   \n",
    "파이썬은 함수보다 좀더 큰 구조인 객체와 모듈이 존재하지만 해당 내용은 본수업때 다루도록 하겠습니다.  \n",
    "\n",
    "기본적으로 함수의 사용 생김새는 다음과 같습니다.\n",
    "\n",
    "    함수이름(인자1, 인자2) \n"
   ]
  },
  {
   "cell_type": "code",
   "execution_count": 23,
   "metadata": {},
   "outputs": [
    {
     "name": "stdout",
     "output_type": "stream",
     "text": [
      "파이썬 100\n"
     ]
    }
   ],
   "source": [
    "print('파이썬', 100)"
   ]
  },
  {
   "cell_type": "markdown",
   "metadata": {},
   "source": [
    "> 위의 코드는 print() 함수에 두개의 데이터를 넣어 사용한 과정입니다.   \n",
    "print() 라는 함수는 이미 파이썬 내부에 정의가 되어있어 이름을 통해 원할때 사용할 수 있습니다.  \n",
    "이처럼 기본적으로 파이썬에 이름과 구성이 있는 함수를 내장 함수라 합니다."
   ]
  },
  {
   "cell_type": "markdown",
   "metadata": {},
   "source": [
    "#### 입력(인자)와 출력(반환)\n",
    "\n",
    "함수는 일시적인 기능을 수행하기 때문에 내부적으로 생성된 데이터는 기능이 전부 수행되면 삭제가 되기때문에 입력과 출력이 따로 존재합니다.  \n",
    "이때 입력을 위한 정의는 **인자(parameter)**, 출력을 위한 정의는 **반환(return)** 이라고 합니다.\n",
    "- **인자** : 함수이름뒤의 () 안에 기능수행에 필요한 데이터를 입력. `,`구분을 통해 여러개 입력가능\n",
    "- **반환** : 함수 실행후 결과로 제공되는 출력 데이터. `변수 = 함수()` 형태로 결과를 변수에 할당 해줌"
   ]
  },
  {
   "cell_type": "code",
   "execution_count": 27,
   "metadata": {},
   "outputs": [
    {
     "name": "stdout",
     "output_type": "stream",
     "text": [
      "10\n"
     ]
    }
   ],
   "source": [
    "num = int(10.24)\n",
    "print(num)"
   ]
  },
  {
   "cell_type": "markdown",
   "metadata": {},
   "source": [
    "> 위의 코드는 int() 함수에 10.24 데이터를 인자로 넣어 사용하고, 반환 데이터를 num 변수에 할당 받는 과정입니다.   \n",
    "int() 함수는 하나의 인자를 입력받아 int형으로 바꾸고 바뀐 데이터를 반환하는 함수 입니다.  "
   ]
  },
  {
   "cell_type": "markdown",
   "metadata": {},
   "source": [
    "#### def을 통해 특정 기능을 수행하는 함수 정의\n",
    "\n",
    "만약 직접 특정 기능을 수행하는 함수를 정의하고 싶다면 다음과 같이 함수를 만들어낼 수 있습니다.\n",
    "\n",
    "    def 함수이름(인자1,인자2):\n",
    "        code\n",
    "        return 반환\n",
    "인자는`()`안에 `,` 구분으로 여러개 정의 할수 있습니다. 이렇게 정의한 인자는 `def` code에서 변수로 활용이 됩니다.  \n",
    "def code영역은 함수가 호출될때 실행되는 코드로 `:` 이후 `들여쓰기(TAB)`으로 작성한 영역이 됩니다.     \n",
    "함수가 결과를 출력해야할 경우 `return` 명령어 뒤에 출력할 데이터 또는 변수를 작성합니다.   \n",
    "def code영역에서 return 명령어가 나오면 def code영역에서 빠져나옵니다. 즉 함수실행이 끝납니다.\n",
    "\n",
    "`함수이름을 만들때는 변수이름과 같은 규칙을 따라 만들어 줍니다. 변수와의 구분은 () 존재로 구분합니다.`\n",
    "    "
   ]
  },
  {
   "cell_type": "code",
   "execution_count": 49,
   "metadata": {},
   "outputs": [
    {
     "name": "stdout",
     "output_type": "stream",
     "text": [
      "30\n"
     ]
    }
   ],
   "source": [
    "# 함수 정의\n",
    "def concat(arg1, arg2): # 2개의 인자 정의\n",
    "    cat = arg1 + arg2       # 파이썬은 TAB(들여쓰기)기준으로 코드 실행영역을 지정\n",
    "    return cat\n",
    "\n",
    "# 함수 이름을 통한 함수 실행(사용)\n",
    "out1 = concat(10, 20)\n",
    "print(out1)"
   ]
  },
  {
   "cell_type": "markdown",
   "metadata": {},
   "source": [
    "> 위의 코드는 concat 이라는 함수를 정의하고 사용하는 과정입니다.   \n",
    "두개의 인자가 정의되었고 함수가 호출되면 입력된 인자 두개를 더한 변수를 반환해주게 정의하였습니다.    \n",
    "함수를 실행시키기 위해서 이름을 호출합니다. 이때 정의한 인자의 순서에 맞게 `()` 안에 데이터또는 변수를 넣어줍니다.   \n",
    "함수가 반환값이 있다면 변수에 할당하여 사용해 줍니다.\n",
    "\n",
    "파이썬은 기본적으로 라인을 따라 순서대로 코드가 진행되지만 `:` 이후 `들여쓰기(TAB)` 영역의 코드는 특정 상황에서만 실행되는 독립영역이 됩니다."
   ]
  },
  {
   "cell_type": "code",
   "execution_count": 48,
   "metadata": {
    "scrolled": false
   },
   "outputs": [
    {
     "ename": "NameError",
     "evalue": "name 'cat' is not defined",
     "output_type": "error",
     "traceback": [
      "\u001b[1;31m---------------------------------------------------------------------------\u001b[0m",
      "\u001b[1;31mNameError\u001b[0m                                 Traceback (most recent call last)",
      "Cell \u001b[1;32mIn[48], line 5\u001b[0m\n\u001b[0;32m      2\u001b[0m     cat \u001b[38;5;241m=\u001b[39m arg1 \u001b[38;5;241m+\u001b[39m arg2       \n\u001b[0;32m      4\u001b[0m concat(\u001b[38;5;241m10\u001b[39m, \u001b[38;5;241m20\u001b[39m)\n\u001b[1;32m----> 5\u001b[0m \u001b[38;5;28mprint\u001b[39m(\u001b[43mcat\u001b[49m)\n",
      "\u001b[1;31mNameError\u001b[0m: name 'cat' is not defined"
     ]
    }
   ],
   "source": [
    "def concat(arg1, arg2):\n",
    "    cat = arg1 + arg2       \n",
    "\n",
    "concat(10, 20)\n",
    "print(cat)"
   ]
  },
  {
   "cell_type": "markdown",
   "metadata": {},
   "source": [
    "> 위의 코드를 통해 함수의 특성을 볼수 있습니다.   \n",
    "함수가 실행된후 함수 내부영역의 데이터는 사라지기 때문에 반환 없이는 외부에서 접근이 불가능 합니다."
   ]
  },
  {
   "cell_type": "markdown",
   "metadata": {},
   "source": [
    "#### [실습]  다음 정의된 multen함수를 변수 inp를 인자로 활용하여 실행시킨뒤 반환값을 출력하세요"
   ]
  },
  {
   "cell_type": "code",
   "execution_count": 1,
   "metadata": {},
   "outputs": [],
   "source": [
    "def multen(x):\n",
    "    return x *10\n",
    "\n",
    "inp = 2"
   ]
  },
  {
   "cell_type": "code",
   "execution_count": 2,
   "metadata": {},
   "outputs": [],
   "source": [
    "# def multen(x):\n",
    "#     return x *10\n",
    "\n",
    "# inp = 2\n",
    "# y = multen(inp)\n",
    "# print(y)"
   ]
  },
  {
   "cell_type": "markdown",
   "metadata": {},
   "source": [
    "<br>\n",
    "\n",
    "## 3. 조건문과 반복문\n",
    "\n",
    "프로그램이 완성되기 위해서는 데이터 뿐만 아니라 데이터를 상황에 맞게 제어를 해줘야 합니다.    \n",
    "파이썬에서 데이터를 제어하는 문법은 크게 두가지로 조건문과 반복문이 있습니다.  \n",
    "\n",
    "### 3.1. if 조건문  \n",
    "\n",
    "조건문은 프로그램의 진행 흐름에 있어 분기점을 만들어주는 역할을 합니다.   \n",
    "파이썬에서 조건문은 `if`,`elif`,`else` 명령어로 구성합니다.\n",
    "\n",
    "    if bool데이터 :\n",
    "        code\n",
    "    else:\n",
    "        code\n",
    "    \n",
    "**if** 명령어 옆에 오는 bool 데이터를 체크하여 코드 실행여부 판단 합니다.   \n",
    "만약 True가 오면 if문의 `: 들여쓰기` 영역의 코드를 실행하고 False인 경우 else문의 `: 들여쓰기` 영역 코드를 실행합니다.\n"
   ]
  },
  {
   "cell_type": "code",
   "execution_count": 28,
   "metadata": {},
   "outputs": [
    {
     "name": "stdout",
     "output_type": "stream",
     "text": [
      "합격\n"
     ]
    }
   ],
   "source": [
    "score=100\n",
    "\n",
    "if score >=80:\n",
    "    print('합격') # True인 경우 실행"
   ]
  },
  {
   "cell_type": "markdown",
   "metadata": {},
   "source": [
    "> 먼저 if 문만 활용한 경우입니다.   \n",
    "if문 뒤에 비교연산자의 결과가 True이므로 합격이 출력됩니다.   \n",
    "만약 False인 경우 아무것도 출력되지 않습니다."
   ]
  },
  {
   "cell_type": "code",
   "execution_count": 30,
   "metadata": {},
   "outputs": [
    {
     "name": "stdout",
     "output_type": "stream",
     "text": [
      "탈락\n"
     ]
    }
   ],
   "source": [
    "# if와 else의 활용\n",
    "score=10\n",
    "\n",
    "if score >=80:\n",
    "    print('합격') # True인 경우 실행\n",
    "else:\n",
    "    print('탈락') # False인 경우 실행"
   ]
  },
  {
   "cell_type": "markdown",
   "metadata": {},
   "source": [
    "> 이번 코드는 else문과 같이 활용한 경우입니다. 반드시 if문 영역 다음줄에 작성해야 합니다.   \n",
    "비교연산자의 결과가 False 이므로 else 영역의 코드만 실행됩니다."
   ]
  },
  {
   "cell_type": "code",
   "execution_count": 30,
   "metadata": {},
   "outputs": [
    {
     "name": "stdout",
     "output_type": "stream",
     "text": [
      "합격\n"
     ]
    }
   ],
   "source": [
    "\n",
    "score = 90\n",
    "\n",
    "if score is None:\n",
    "    print('미응시')\n",
    "else:\n",
    "    if score >=80:\n",
    "        print('합격')\n",
    "    else:\n",
    "        print('탈락')\n"
   ]
  },
  {
   "cell_type": "markdown",
   "metadata": {},
   "source": [
    "> 위의 코드는 else문 안에 또다른 if문을 구성한 중첩 조건문입니다.  \n",
    "이런 경우는 첫번째 조건인 아닌경우 또다른 조건을 주는 경우이므로 다음 코드로 동일하게 사용 가능합니다."
   ]
  },
  {
   "cell_type": "code",
   "execution_count": 33,
   "metadata": {},
   "outputs": [
    {
     "name": "stdout",
     "output_type": "stream",
     "text": [
      "합격\n"
     ]
    }
   ],
   "source": [
    "score = 90\n",
    "\n",
    "if score is None:\n",
    "    print('미응시')\n",
    "elif score >=80:\n",
    "    print('합격')\n",
    "else:\n",
    "    print('탈락')"
   ]
  },
  {
   "cell_type": "markdown",
   "metadata": {},
   "source": [
    "> elif 문은 else문 안의 if문을 결합한 형태의 문법입니다.   \n",
    "의미적으로 먼저 나온 조건이 False인 경우 다른 조건을 추가로 준다는 의미를 가집니다.    "
   ]
  },
  {
   "cell_type": "code",
   "execution_count": 32,
   "metadata": {},
   "outputs": [
    {
     "name": "stdout",
     "output_type": "stream",
     "text": [
      "재시험\n"
     ]
    }
   ],
   "source": [
    "score = 70\n",
    "\n",
    "if score is None:\n",
    "    print('미응시')\n",
    "elif score >= 80:\n",
    "    print('합격')\n",
    "elif score >= 60:\n",
    "    print('재시험')\n",
    "else:\n",
    "    print('탈락')"
   ]
  },
  {
   "cell_type": "markdown",
   "metadata": {},
   "source": [
    ">elif 문은 연속적으로 계속 사용이 가능하며 else문은 모든 elif문이 False일때 실행됩니다."
   ]
  },
  {
   "cell_type": "markdown",
   "metadata": {},
   "source": [
    "#### [실습] 다음 변수 score의 값이 90보다 크면 A, 80보다 크면 B, 70보다 크면 C, 70 이하면 D 가 출력되는 if문을 만드세요 "
   ]
  },
  {
   "cell_type": "code",
   "execution_count": null,
   "metadata": {},
   "outputs": [],
   "source": [
    "score = 86"
   ]
  },
  {
   "cell_type": "code",
   "execution_count": 6,
   "metadata": {},
   "outputs": [
    {
     "name": "stdout",
     "output_type": "stream",
     "text": [
      "B\n"
     ]
    }
   ],
   "source": [
    "# score = 86\n",
    "\n",
    "# if score > 90:\n",
    "#     print('A')\n",
    "# elif score > 80:\n",
    "#     print('B')\n",
    "# elif score > 70:\n",
    "#     print('C')\n",
    "# else:\n",
    "#     print('D')"
   ]
  },
  {
   "cell_type": "markdown",
   "metadata": {},
   "source": [
    "<br>\n",
    "\n",
    "### 3.2. for 반복문\n",
    "\n",
    "반복문은 영역 안의 코드를 반복 시켜주는 문법으로 중복 작성해야하는 코드를 획기적으로 줄일 수 있습니다.   \n",
    "파이썬에서 반복문은 대표적으로 for문과 while문이 있습니다. while문은 본수업때 자세히 보도록 하겠습니다.\n",
    "\n",
    "파이썬에서 for문은 다음과 같이 `for`, `in` 명령어를 조합하여 만들어줍니다.\n",
    "\n",
    "    for 변수 in 이터러블:\n",
    "        code\n",
    "`이터러블은 여러개의 데이터를 가지고있으며, 데이터를 순서대로 출력가능한 구조 입니다. 대표적으로 리스트가 있습니다.`"
   ]
  },
  {
   "cell_type": "code",
   "execution_count": 34,
   "metadata": {},
   "outputs": [
    {
     "name": "stdout",
     "output_type": "stream",
     "text": [
      "0번째 반복\n",
      "1번째 반복\n",
      "2번째 반복\n",
      "3번째 반복\n",
      "4번째 반복\n"
     ]
    }
   ],
   "source": [
    "# range(s, e): s값부터 e-1값까지의 수열을 만드는 함수\n",
    "for i in range(0,5):\n",
    "    print(f'{i}번째 반복')"
   ]
  },
  {
   "cell_type": "markdown",
   "metadata": {},
   "source": [
    "> 위 코드는 range()함수를 이용해 이터러블을 만들어 반복 실행을 하는 과정입니다.  \n",
    "for문 뒤의 변수는 원하는 이름으로 생성해줍니다. 해당 변수에 in문 뒤의 이터러블 내부의 데이터가 하나씩 할당됩니다.    \n",
    "range(0,5) 의 결과는 0~4까지의 수열이므로 i 변수에는 처음에 0이 할당된상태로 영역 코드가 실행됩니다.    \n",
    "이후 차례로 다음 데이터가 할당되면서 4까지 반복 실행이 됩니다.   \n",
    "`range(s, e): s값부터 e-1값까지 수열 값들을 이터러블로 만드는 함수`"
   ]
  },
  {
   "cell_type": "code",
   "execution_count": 33,
   "metadata": {},
   "outputs": [
    {
     "name": "stdout",
     "output_type": "stream",
     "text": [
      "0번째 값은 0\n",
      "1번째 값은 1\n",
      "2번째 값은 3\n",
      "3번째 값은 6\n",
      "4번째 값은 10\n"
     ]
    }
   ],
   "source": [
    "count = 0\n",
    "\n",
    "for i in [0,1,2,3,4]:\n",
    "    count += i # 반복할 때마다 i를 더함   \n",
    "    print(f'{i}번째 값은 {count}')"
   ]
  },
  {
   "cell_type": "markdown",
   "metadata": {},
   "source": [
    "> 다음은 리스트라는 데이터구조를 활용하여 반복을 구성하는 과정입니다.   \n",
    "리스트에 저장된 데이터들이 순서대로 i에 할당되며 반복이 이루어집니다.   \n",
    "이처럼 여러개의 데이터를 순서로 저장하는 데이터구조는 in 뒤에 활용 가능합니다.  "
   ]
  },
  {
   "cell_type": "code",
   "execution_count": 35,
   "metadata": {},
   "outputs": [
    {
     "name": "stdout",
     "output_type": "stream",
     "text": [
      "0번째 값은 0\n",
      "1번째 값은 0\n",
      "2번째 값은 0\n",
      "3번째 값은 3\n",
      "4번째 값은 7\n"
     ]
    }
   ],
   "source": [
    "count = 0\n",
    "\n",
    "for i in [0,1,2,3,4]:\n",
    "    if i > 2:\n",
    "        count += i \n",
    "    print(f'{i}번째 값은 {count}')"
   ]
  },
  {
   "cell_type": "markdown",
   "metadata": {},
   "source": [
    "> 위 코드와 같이 for문안에 if문을 조합하여 사용되는 경우도 많이 있습니다.   \n",
    "이와같은 중첩구조에 익숙해지는것이 좋습니다."
   ]
  },
  {
   "cell_type": "markdown",
   "metadata": {},
   "source": [
    "#### 반복 제어문\n",
    "\n",
    "파이썬의 for문은 이터러블 내부의 데이터가 전부 순회되어야 끝납니다.   \n",
    "이런 상황에서 특정 경우에 반복을 중단하거나 건너뛸수 있는 명령어가 있습니다.\n",
    "\n",
    "`break` : 포함된 반복문을 중단시킴  \n",
    "`continue` : 이후 반복문 내의 코드를 실행하지 않고 다음 반복으로 넘김"
   ]
  },
  {
   "cell_type": "code",
   "execution_count": 34,
   "metadata": {},
   "outputs": [
    {
     "name": "stdout",
     "output_type": "stream",
     "text": [
      "1\n",
      "2\n",
      "4\n"
     ]
    }
   ],
   "source": [
    "# for문 안에서 if문을 활용\n",
    "\n",
    "for a in range(1,10):\n",
    "    if a % 3 == 0: # 3로 나눈 나머지가 0이면 3의 배수\n",
    "        continue\n",
    "    elif a % 5 == 0:\n",
    "        break\n",
    "    else:\n",
    "        print(a)"
   ]
  },
  {
   "cell_type": "markdown",
   "metadata": {},
   "source": [
    "> 위의 코드는 1~9까지의 수열을 출력하는 반복구조에 3의 배수가나오면 건너뛰고 5의배수가 나오면 반복을 중단하는 코드입니다.   \n",
    "특히 if문안에 break 명령어를 두어 특정 조건에 반복을 멈추는 방법은 많이 사용되는 스킬입니다."
   ]
  },
  {
   "cell_type": "markdown",
   "metadata": {},
   "source": [
    "<br>\n",
    "\n",
    "#### [실습] for문, range(), 문자열 포맷을 이용하여 다음 예시와 같이 구구단 19단 출력하세요\n",
    "`19 X 1 = 19`  \n",
    "`19 X 2 = 38`  \n",
    "`...`    \n",
    "`19 X 19 = 361` \n"
   ]
  },
  {
   "cell_type": "code",
   "execution_count": 36,
   "metadata": {},
   "outputs": [
    {
     "name": "stdout",
     "output_type": "stream",
     "text": [
      "19 X 1 = 19\n"
     ]
    }
   ],
   "source": [
    "#포맷 참고\n",
    "print(f'{19} X {1} = {19}')"
   ]
  },
  {
   "cell_type": "code",
   "execution_count": null,
   "metadata": {},
   "outputs": [],
   "source": []
  },
  {
   "cell_type": "code",
   "execution_count": null,
   "metadata": {},
   "outputs": [],
   "source": [
    "# for i in range(1,20):\n",
    "#     print(f'19 X {i} = {19*i}')"
   ]
  },
  {
   "cell_type": "markdown",
   "metadata": {},
   "source": [
    "#### [실습] 아래의 숫자 리스트 *x* 에서 10 이상인 숫자만 따로 모아 합계 계산하기"
   ]
  },
  {
   "cell_type": "code",
   "execution_count": 7,
   "metadata": {},
   "outputs": [],
   "source": [
    "x = [9, 10, 4, 22, 3, 19]"
   ]
  },
  {
   "cell_type": "code",
   "execution_count": null,
   "metadata": {},
   "outputs": [],
   "source": []
  },
  {
   "cell_type": "code",
   "execution_count": null,
   "metadata": {},
   "outputs": [],
   "source": [
    "# sum_x = 0\n",
    "\n",
    "# for i in x:\n",
    "#     if i >=10:\n",
    "#         sum_x += i\n",
    "# sum_x"
   ]
  },
  {
   "cell_type": "markdown",
   "metadata": {},
   "source": [
    "#### [실습] 아래의 숫자 리스트 *x* 에서 20이상의 숫자가 나오기 전까지 숫자만 따로 모아 합계 계산하기"
   ]
  },
  {
   "cell_type": "code",
   "execution_count": null,
   "metadata": {},
   "outputs": [],
   "source": [
    "x = [9, 10, 4, 22, 3, 19]"
   ]
  },
  {
   "cell_type": "code",
   "execution_count": null,
   "metadata": {},
   "outputs": [],
   "source": []
  },
  {
   "cell_type": "code",
   "execution_count": 8,
   "metadata": {},
   "outputs": [
    {
     "data": {
      "text/plain": [
       "23"
      ]
     },
     "execution_count": 8,
     "metadata": {},
     "output_type": "execute_result"
    }
   ],
   "source": [
    "# sum_x = 0\n",
    "\n",
    "# for i in x:\n",
    "#     if i >=20:\n",
    "#         break\n",
    "#     else:\n",
    "#         sum_x += i\n",
    "# sum_x"
   ]
  },
  {
   "cell_type": "markdown",
   "metadata": {},
   "source": [
    "\n",
    "<br>\n",
    "\n",
    "## 3. 리스트의 활용\n",
    "\n",
    "`1`, `'파이썬'`처럼 하나의 값이 아니라 여러개의 값을 특정 구조로 저장한 데이터를 데이터구조라고 합니다.  \n",
    "이러한 데이터구조중 파이썬에서 가장 기본적으로 사용되는것이 바로 리스트입니다.   \n",
    "리스트는 가변 시퀀스 구조로 다음과 같은 특성을 가집니다.\n",
    "\n",
    "- 내부값을 자유롭게 바꾸고 추가, 제거할 수 있음\n",
    "- 순서(인덱스) 기반으로 데이터를 저장하고 찾아옴\n",
    "- 여러타입의 데이터를 같이 보관할 수 있음\n",
    "- 내부를 변형해주는 다양한 함수가 내장\n"
   ]
  },
  {
   "cell_type": "markdown",
   "metadata": {},
   "source": [
    "#### 리스트 생성 하기\n",
    "파이썬에서 리스트는 `[ ]`로 생성할 수 있습니다.   \n",
    "`[ ]` 안에 `,`를 구분으로 여러개의 데이터를 넣어서 바로 리스트로 생성 가능합니다.   "
   ]
  },
  {
   "cell_type": "code",
   "execution_count": 36,
   "metadata": {},
   "outputs": [
    {
     "name": "stdout",
     "output_type": "stream",
     "text": [
      "[]\n",
      "[5000, 6000, 7000, 6000, 9000]\n"
     ]
    }
   ],
   "source": [
    "# 비어있는 리스트 생성\n",
    "empty = [] \n",
    "print(empty)\n",
    "\n",
    "# 데이터를 넣어 리스트 생성\n",
    "point = [5000, 6000, 7000, 6000, 9000]\n",
    "print(point)"
   ]
  },
  {
   "cell_type": "markdown",
   "metadata": {},
   "source": [
    "> 만약 `[ ]`에 데이터를 안넣으면 비어있는 리스트가 생성됩니다.   \n",
    "리스트를 출력하면 위와 같이 `[ ]` 로 표현을 해줍니다.  "
   ]
  },
  {
   "cell_type": "code",
   "execution_count": 38,
   "metadata": {},
   "outputs": [
    {
     "name": "stdout",
     "output_type": "stream",
     "text": [
      "['파이썬', 5000, '기초', 6.215, '사전학습', True]\n"
     ]
    }
   ],
   "source": [
    "# 다양한 타입이 들어올 수 있음\n",
    "types = ['파이썬', 5000, '기초', 6.215, '사전학습', True]\n",
    "print(types)"
   ]
  },
  {
   "cell_type": "markdown",
   "metadata": {},
   "source": [
    "> 리스트는 단일 타입만 넣을수 있는게 아니라 여러타입을 동시에 넣을 수 있습니다.   \n",
    "배열이라는 구조와는 상반되는 특성으로 가변적 특성이 잘드러나는 부분입니다.  "
   ]
  },
  {
   "cell_type": "code",
   "execution_count": 42,
   "metadata": {},
   "outputs": [
    {
     "name": "stdout",
     "output_type": "stream",
     "text": [
      "[]\n",
      "[1, 2, 3, 4, 5, 6, 7, 8, 9, 10, 11, 12, 13, 14, 15, 16, 17, 18, 19]\n"
     ]
    }
   ],
   "source": [
    "# list() 함수 활용하여 생성 (형변환)\n",
    "empty = list() # empty = []\n",
    "print(empty)\n",
    "seq = list(range(1, 20))\n",
    "print(seq)"
   ]
  },
  {
   "cell_type": "markdown",
   "metadata": {},
   "source": [
    "> 위의 코드는 list() 함수를 이용하여 리스트를 생성하는 방법입니다.   \n",
    "데이터타입에서 본 형변환 방식과 동일합니다.  "
   ]
  },
  {
   "cell_type": "markdown",
   "metadata": {},
   "source": [
    "\n",
    "#### 데이터 추가하기\n",
    "파이썬에서 리스트는 객체로 구성되어 있으므로 다양한 함수들을 내장하고 있습니다.  \n",
    "이렇게 내장된 함수를 사용하기 위해서는 `변수.함수()` 형태의 `.`연산(도트연산)을 활용합니다.  \n",
    "대표적으로 리스트의 맨뒤에 데이터를 추가 해주는 append()함수는 다음과 같이 사용됩니다.\n",
    "\n",
    "    리스트변수.append(x)\n",
    "`x를 맨뒤에 추가`\n"
   ]
  },
  {
   "cell_type": "code",
   "execution_count": 39,
   "metadata": {},
   "outputs": [
    {
     "data": {
      "text/plain": [
       "[5000, 6000, 7000, 6000, 9000, 10000]"
      ]
     },
     "execution_count": 39,
     "metadata": {},
     "output_type": "execute_result"
    }
   ],
   "source": [
    "# append : 리스트 맨뒤에 항목 추가하기\n",
    "point = [5000, 6000, 7000, 6000, 9000]\n",
    "point.append(10000)\n",
    "point"
   ]
  },
  {
   "cell_type": "markdown",
   "metadata": {},
   "source": [
    "> 이처럼 append()함수를 사용하여 기존 리스트의 맨뒤에 데이터를 추가할 수 있습니다.   \n",
    "이때 반드시 리스트가 할당된 변수인 `point`에서 .append()를 사용해 주어야합니다. "
   ]
  },
  {
   "cell_type": "code",
   "execution_count": 41,
   "metadata": {},
   "outputs": [
    {
     "data": {
      "text/plain": [
       "[0, 1, 2, 3, 4, 5, 6, 7, 8, 9]"
      ]
     },
     "execution_count": 41,
     "metadata": {},
     "output_type": "execute_result"
    }
   ],
   "source": [
    "point = []\n",
    "\n",
    "for i in range(0,10):\n",
    "    point.append(i)\n",
    "point"
   ]
  },
  {
   "cell_type": "markdown",
   "metadata": {},
   "source": [
    "> 위와 같이 for문을 사용하여 리스트에 데이터를 여러개 추가할 수 있습니다."
   ]
  },
  {
   "cell_type": "markdown",
   "metadata": {},
   "source": [
    "#### 데이터 접근\n",
    "\n",
    "리스트에서 데이터추가를 위해 함수를 사용했다면 리스트내부의 데이터에 접근하기 위해서는 `리스트변수[]` 연산을 사용해야 합니다.   \n",
    "이때 다음 경우와 햇갈리면 안됩니다.\n",
    "\n",
    "`[]` : 리스트생성   \n",
    "`변수이름()` : 함수   \n",
    "`변수이름[]` : 구조내의 데이터접근   \n",
    "\n",
    "리스트 뿐만 아니라 데이터구조를 할당한 변수에서는 `변수이름[]`를 사용할 수 있는 경우가 많습니다.   \n",
    "리스트의 경우 `[]`안에는 접근하고 싶은 데이터의 순서(index)를 넣어줍니다."
   ]
  },
  {
   "cell_type": "code",
   "execution_count": 42,
   "metadata": {
    "scrolled": true
   },
   "outputs": [
    {
     "name": "stdout",
     "output_type": "stream",
     "text": [
      "5000\n",
      "7000\n"
     ]
    }
   ],
   "source": [
    "# 순서는 0부터 시작\n",
    "   # index: 0     1     2     3     4\n",
    "point = [5000, 6000, 7000, 6000, 9000]\n",
    "print(point[0])\n",
    "print(point[2])"
   ]
  },
  {
   "cell_type": "markdown",
   "metadata": {},
   "source": [
    "> 위의 코드는 리스트변수 point에서 0번 데이터와 2번 데이터를 접근하여 출력하는 과정입니다.   \n",
    "이처럼 리스트변수에서 `[순서]` 를 통해 원하는 데이터에 접근이 가능합니다.  "
   ]
  },
  {
   "cell_type": "markdown",
   "metadata": {},
   "source": [
    "#### 데이터 수정\n",
    "\n",
    "리스트의 특정 데이터를 수정하고 싶으면 다음과 같이 코드를 구성해줍니다.  \n",
    "    \n",
    "    리스트변수[순서] = 데이터\n",
    "    \n"
   ]
  },
  {
   "cell_type": "code",
   "execution_count": 43,
   "metadata": {},
   "outputs": [
    {
     "data": {
      "text/plain": [
       "[5000, 6000, 7000, 0, 9000]"
      ]
     },
     "execution_count": 43,
     "metadata": {},
     "output_type": "execute_result"
    }
   ],
   "source": [
    "point = [5000, 6000, 7000, 6000, 9000]\n",
    "point[3] = 0\n",
    "point"
   ]
  },
  {
   "cell_type": "markdown",
   "metadata": {},
   "source": [
    "> 위의 코드처럼 `리스트변수[순서]` 를 통해 원하는 데이터에 접근한뒤 새로운 데이터를 할당해주어 데이터를 수정합니다."
   ]
  },
  {
   "cell_type": "code",
   "execution_count": 47,
   "metadata": {},
   "outputs": [
    {
     "ename": "IndexError",
     "evalue": "list assignment index out of range",
     "output_type": "error",
     "traceback": [
      "\u001b[1;31m---------------------------------------------------------------------------\u001b[0m",
      "\u001b[1;31mIndexError\u001b[0m                                Traceback (most recent call last)",
      "Cell \u001b[1;32mIn[47], line 3\u001b[0m\n\u001b[0;32m      1\u001b[0m \u001b[38;5;66;03m# 인덱스가 없으면 에러\u001b[39;00m\n\u001b[0;32m      2\u001b[0m point \u001b[38;5;241m=\u001b[39m [\u001b[38;5;241m5000\u001b[39m, \u001b[38;5;241m6000\u001b[39m, \u001b[38;5;241m7000\u001b[39m, \u001b[38;5;241m6000\u001b[39m, \u001b[38;5;241m9000\u001b[39m]\n\u001b[1;32m----> 3\u001b[0m \u001b[43mpoint\u001b[49m\u001b[43m[\u001b[49m\u001b[38;5;241;43m6\u001b[39;49m\u001b[43m]\u001b[49m \u001b[38;5;241m=\u001b[39m \u001b[38;5;241m60000\u001b[39m\n",
      "\u001b[1;31mIndexError\u001b[0m: list assignment index out of range"
     ]
    }
   ],
   "source": [
    "# 인덱스가 없으면 에러\n",
    "point = [5000, 6000, 7000, 6000, 9000]\n",
    "point[6] = 60000"
   ]
  },
  {
   "cell_type": "markdown",
   "metadata": {},
   "source": [
    "> 만약 리스트가 가진 순서를 초과하는 순서가 입력되면 다음과 같은 에러가 출력됩니다."
   ]
  },
  {
   "cell_type": "markdown",
   "metadata": {},
   "source": [
    "#### 데이터 삭제\n",
    "\n",
    "리스트의 특정 데이터를 수정하고 싶으면 다음과 같이 del 명령어를 사용해줍니다.  \n",
    "    \n",
    "    del 리스트변수[순서]\n",
    "    \n"
   ]
  },
  {
   "cell_type": "code",
   "execution_count": 44,
   "metadata": {},
   "outputs": [
    {
     "name": "stdout",
     "output_type": "stream",
     "text": [
      "[5000, 6000, 6000, 9000]\n"
     ]
    }
   ],
   "source": [
    "point = [5000, 6000, 7000, 6000, 9000]\n",
    "del point[2]\n",
    "print(point)"
   ]
  },
  {
   "cell_type": "markdown",
   "metadata": {},
   "source": [
    "> 이처럼 삭제는 del 명령어 뒤에 원하는 데이터를 접근해주면 됩니다.  \n",
    "2번 순서인 7000이 리스트에서 삭제된것을 볼 수 있습니다."
   ]
  },
  {
   "cell_type": "markdown",
   "metadata": {},
   "source": [
    "#### 데이터 순회\n",
    "\n",
    "리스트의 내부의 모든 데이터를 순회하여 접근하고 싶다면 이미 봤던 for문을 활용합니다.\n",
    "    \n",
    "    for x in 리스트변수:\n",
    "    \n",
    "이때 x에는 리스트의 순서가 아닌 내부 데이터가 순차적으로 할당이 됩니다. "
   ]
  },
  {
   "cell_type": "code",
   "execution_count": 46,
   "metadata": {},
   "outputs": [
    {
     "name": "stdout",
     "output_type": "stream",
     "text": [
      "5000\n",
      "6000\n",
      "7000\n",
      "6000\n",
      "9000\n"
     ]
    }
   ],
   "source": [
    "point = [5000, 6000, 7000, 6000, 9000]\n",
    "for p in point:\n",
    "    print(p)"
   ]
  },
  {
   "cell_type": "markdown",
   "metadata": {},
   "source": [
    "> 만약 for문을 통해 리스트의 순서를 만들고 싶다면 range() 함수와 len() 함수를 조합하거나, enumerate() 함수로 리스트를 감싸줍니다. "
   ]
  },
  {
   "cell_type": "markdown",
   "metadata": {},
   "source": [
    "\n",
    "#### [실습] 먹고싶은 식사 메뉴 3개를 리스트로 묶어 menu변수에 할당 하고 출력하세요\n"
   ]
  },
  {
   "cell_type": "code",
   "execution_count": null,
   "metadata": {},
   "outputs": [],
   "source": []
  },
  {
   "cell_type": "code",
   "execution_count": null,
   "metadata": {},
   "outputs": [],
   "source": [
    "# menu = ['돈까스', '삼겹살', '치킨']\n",
    "# print(menu)"
   ]
  },
  {
   "cell_type": "markdown",
   "metadata": {},
   "source": [
    "#### [실습] menu 리스트에서 append( )로 메뉴 하나 더 추가하고 출력하세요\n",
    "\n"
   ]
  },
  {
   "cell_type": "code",
   "execution_count": null,
   "metadata": {},
   "outputs": [],
   "source": []
  },
  {
   "cell_type": "code",
   "execution_count": null,
   "metadata": {},
   "outputs": [],
   "source": [
    "# menu = ['돈까스', '삼겹살', '치킨']\n",
    "# menu.append('자장면')\n",
    "# print(menu)"
   ]
  },
  {
   "cell_type": "markdown",
   "metadata": {},
   "source": [
    "#### [실습] menu에서 순서(인덱스)가 0번인 메뉴만 출력하세요"
   ]
  },
  {
   "cell_type": "code",
   "execution_count": null,
   "metadata": {},
   "outputs": [],
   "source": []
  },
  {
   "cell_type": "code",
   "execution_count": null,
   "metadata": {},
   "outputs": [],
   "source": [
    "# menu = ['돈까스', '삼겹살', '치킨']\n",
    "# print(menu[0])"
   ]
  },
  {
   "cell_type": "markdown",
   "metadata": {},
   "source": [
    "#### [실습] menu에서 순서(인덱스)가 2번인 메뉴를 '우동'으로 변경하고 출력하세요\n"
   ]
  },
  {
   "cell_type": "code",
   "execution_count": null,
   "metadata": {},
   "outputs": [],
   "source": []
  },
  {
   "cell_type": "code",
   "execution_count": null,
   "metadata": {},
   "outputs": [],
   "source": [
    "# menu = ['돈까스', '삼겹살', '치킨']\n",
    "# menu[2] = '우동'\n",
    "# print(menu)"
   ]
  },
  {
   "cell_type": "markdown",
   "metadata": {},
   "source": [
    "#### [실습] for 문을 활용하여 최종 menu데이터를 전부 출력(print)하세요."
   ]
  },
  {
   "cell_type": "code",
   "execution_count": null,
   "metadata": {},
   "outputs": [],
   "source": []
  },
  {
   "cell_type": "code",
   "execution_count": null,
   "metadata": {},
   "outputs": [],
   "source": [
    "# for m in menu:\n",
    "#     print(m)"
   ]
  },
  {
   "cell_type": "markdown",
   "metadata": {},
   "source": [
    "#### [실습] 다음 list1 뒤에 list2에 있는 'b','e'를 차례로 추가하여 다음과 같은 list1를 만듭니다.\n",
    "`['a','f','c','b','e']`\n"
   ]
  },
  {
   "cell_type": "code",
   "execution_count": 46,
   "metadata": {},
   "outputs": [],
   "source": [
    "list1 = ['a','f','c']\n",
    "list2 = ['b','e']\n"
   ]
  },
  {
   "cell_type": "code",
   "execution_count": 9,
   "metadata": {},
   "outputs": [
    {
     "name": "stdout",
     "output_type": "stream",
     "text": [
      "['a', 'f', 'c', 'b', 'e']\n"
     ]
    }
   ],
   "source": [
    "# list1 = ['a','f','c']\n",
    "# list2 = ['b','e']\n",
    "\n",
    "# for x in list2:\n",
    "#     list1.append(x)\n",
    "    \n",
    "# print(list1)"
   ]
  },
  {
   "cell_type": "markdown",
   "metadata": {},
   "source": [
    "#### End of script"
   ]
  }
 ],
 "metadata": {
  "kernelspec": {
   "display_name": "Python 3 (ipykernel)",
   "language": "python",
   "name": "python3"
  },
  "language_info": {
   "codemirror_mode": {
    "name": "ipython",
    "version": 3
   },
   "file_extension": ".py",
   "mimetype": "text/x-python",
   "name": "python",
   "nbconvert_exporter": "python",
   "pygments_lexer": "ipython3",
   "version": "3.10.11"
  }
 },
 "nbformat": 4,
 "nbformat_minor": 4
}
